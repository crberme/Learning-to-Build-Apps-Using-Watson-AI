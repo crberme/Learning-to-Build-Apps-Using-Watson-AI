{
 "cells": [
  {
   "cell_type": "markdown",
   "metadata": {},
   "source": [
    "### Install Watson Python Client SDK Libs"
   ]
  },
  {
   "cell_type": "code",
   "execution_count": null,
   "metadata": {},
   "outputs": [],
   "source": [
    "!pip install --upgrade \"ibm-watson>=4.5.0\""
   ]
  },
  {
   "cell_type": "markdown",
   "metadata": {},
   "source": [
    "### Other Imports"
   ]
  },
  {
   "cell_type": "code",
   "execution_count": null,
   "metadata": {},
   "outputs": [],
   "source": [
    "from __future__ import print_function\n",
    "import sys\n",
    "import os\n",
    "import json\n",
    "\n",
    "from ibm_watson import NaturalLanguageUnderstandingV1\n",
    "from ibm_cloud_sdk_core.authenticators import IAMAuthenticator\n",
    "from ibm_watson.natural_language_understanding_v1 import Features, EntitiesOptions, KeywordsOptions, SentimentOptions"
   ]
  },
  {
   "cell_type": "markdown",
   "metadata": {},
   "source": [
    "### Watson NLU Credentials"
   ]
  },
  {
   "cell_type": "code",
   "execution_count": null,
   "metadata": {},
   "outputs": [],
   "source": [
    "authenticator = IAMAuthenticator('{apikey}')\n",
    "nlu = NaturalLanguageUnderstandingV1(version='2019-07-12', authenticator=authenticator)\n",
    "nlu.set_service_url('{url}')"
   ]
  },
  {
   "cell_type": "markdown",
   "metadata": {},
   "source": [
    "### Invoke NLU to analyze text"
   ]
  },
  {
   "cell_type": "code",
   "execution_count": null,
   "metadata": {},
   "outputs": [],
   "source": [
    "response = nlu.analyze(text='Broadcom Ltd. plans to raise its bid for Qualcomm Inc. to around $120 billion, according to a person with knowledge of the matter, trying to force its target to come to the table in what would be the largest-ever technology deal. The chipmaker is considering lifting its offer to about $80 to $82 per Qualcomm share, the person said, asking not to be identified because the information is private. Qualcomm Chief Executive Officer Steve Mollenkopf had dismissed Broadcom’s earlier proposal of $70 per share as not being worth consideration. Broadcom plans to announce the new bid Monday morning U.S. time, the person said. Broadcom Chief Executive Officer Hock Tan is putting pressure back on Mollenkopf and his board, who have so far refused to negotiate. By sweetening the offer, he’s also improving prospects for his nominations to Qualcomm’s board in a shareholder vote next month. A victory in that effort would void the current opposition.',\n",
    "            features=Features(entities=EntitiesOptions(), keywords=KeywordsOptions(), sentiment=SentimentOptions())).get_result()"
   ]
  },
  {
   "cell_type": "markdown",
   "metadata": {},
   "source": [
    "### Print Results from NLU"
   ]
  },
  {
   "cell_type": "code",
   "execution_count": null,
   "metadata": {
    "scrolled": false
   },
   "outputs": [],
   "source": [
    "print(json.dumps(response, indent=2))"
   ]
  },
  {
   "cell_type": "code",
   "execution_count": null,
   "metadata": {},
   "outputs": [],
   "source": []
  }
 ],
 "metadata": {
  "kernelspec": {
   "display_name": "Python 3",
   "language": "python",
   "name": "python3"
  },
  "language_info": {
   "codemirror_mode": {
    "name": "ipython",
    "version": 3
   },
   "file_extension": ".py",
   "mimetype": "text/x-python",
   "name": "python",
   "nbconvert_exporter": "python",
   "pygments_lexer": "ipython3",
   "version": "3.6.3"
  }
 },
 "nbformat": 4,
 "nbformat_minor": 2
}
