{
 "cells": [
  {
   "cell_type": "markdown",
   "metadata": {},
   "source": [
    "## Notebook for testing performance of intent classification in Watson Assistant Service\n",
    "[IBM Watson’s AI](http://www.ibm.com/watson/products-services) capabilities organized into 6 categories and available as API’s on IBM Cloud. These platform is AI services that leverage machine learning techniques help clients solve a variety business problems. Furthermore, several of the AI API's/ services fall under the **supervised learning** suite of machine learning algorithms, that is, algorithms that learn by example. This begs the questions: \"How many examples should we provide?\" and \"When is my solution ready for prime time?\"\n",
    "\n",
    "It is critical to understand that training a machine learning solution is an iterative process where it is important to continually improve the solution by providing new examples and measuring the performance of the trained solution. In this notebook, we show how you can compute important Machine Learning metrics (accuracy, precision, recall, confusion_matrix) to judge the performance of your Watson Assistant service based solution.\n",
    "\n",
    "- Based on code by Joe Kozhaya https://github.com/joe4k/wdcutils"
   ]
  },
  {
   "cell_type": "markdown",
   "metadata": {},
   "source": [
    "<br> The notebook assumes you have already created a [Watson Assistant Service](https://www.ibm.com/watson/ai-assistant/) instance and trained it based on a number of intents. </br>\n",
    "<br> To leverage this notebook, you need to provide the following information</br>\n",
    "* Credentials for your Watson Assistant instance (username and password)\n",
    "* Workspace ID for your Watson Assistant instance \n",
    "* CSV file with your text utterances and corresponding intent labels\n",
    "* Results CSV file to write the results to\n",
    "* CSV file to write confusion matrix results to"
   ]
  },
  {
   "cell_type": "markdown",
   "metadata": {},
   "source": [
    "### Install and Import the Packages"
   ]
  },
  {
   "cell_type": "code",
   "execution_count": 1,
   "metadata": {
    "scrolled": true
   },
   "outputs": [
    {
     "name": "stdout",
     "output_type": "stream",
     "text": [
      "Requirement already satisfied: pandas_ml in /anaconda3/lib/python3.6/site-packages (0.5.0)\n",
      "Requirement already satisfied: pandas>=0.17.0 in /anaconda3/lib/python3.6/site-packages (from pandas_ml) (0.23.3)\n",
      "Requirement already satisfied: enum34 in /anaconda3/lib/python3.6/site-packages (from pandas_ml) (1.1.6)\n",
      "Requirement already satisfied: pytz>=2011k in /anaconda3/lib/python3.6/site-packages (from pandas>=0.17.0->pandas_ml) (2018.4)\n",
      "Requirement already satisfied: python-dateutil>=2.5.0 in /anaconda3/lib/python3.6/site-packages (from pandas>=0.17.0->pandas_ml) (2.7.3)\n",
      "Requirement already satisfied: numpy>=1.9.0 in /anaconda3/lib/python3.6/site-packages (from pandas>=0.17.0->pandas_ml) (1.14.5)\n",
      "Requirement already satisfied: six>=1.5 in /anaconda3/lib/python3.6/site-packages (from python-dateutil>=2.5.0->pandas>=0.17.0->pandas_ml) (1.11.0)\n",
      "Collecting watson-developer-cloud\n",
      "\u001b[?25l  Downloading https://files.pythonhosted.org/packages/69/ac/193bc90beac01d8036b1ccb976eedd6b1a7dae861ac84e4712770e7b4418/watson-developer-cloud-2.3.0.tar.gz (246kB)\n",
      "\u001b[K    100% |████████████████████████████████| 256kB 3.6MB/s ta 0:00:01\n",
      "\u001b[?25hRequirement already satisfied, skipping upgrade: requests<3.0,>=2.0 in /anaconda3/lib/python3.6/site-packages (from watson-developer-cloud) (2.18.4)\n",
      "Requirement already satisfied, skipping upgrade: python_dateutil>=2.5.3 in /anaconda3/lib/python3.6/site-packages (from watson-developer-cloud) (2.7.3)\n",
      "Requirement already satisfied, skipping upgrade: websocket-client==0.47.0 in /anaconda3/lib/python3.6/site-packages (from watson-developer-cloud) (0.47.0)\n",
      "Requirement already satisfied, skipping upgrade: chardet<3.1.0,>=3.0.2 in /anaconda3/lib/python3.6/site-packages (from requests<3.0,>=2.0->watson-developer-cloud) (3.0.4)\n",
      "Requirement already satisfied, skipping upgrade: idna<2.7,>=2.5 in /anaconda3/lib/python3.6/site-packages (from requests<3.0,>=2.0->watson-developer-cloud) (2.6)\n",
      "Requirement already satisfied, skipping upgrade: urllib3<1.23,>=1.21.1 in /anaconda3/lib/python3.6/site-packages (from requests<3.0,>=2.0->watson-developer-cloud) (1.22)\n",
      "Requirement already satisfied, skipping upgrade: certifi>=2017.4.17 in /anaconda3/lib/python3.6/site-packages (from requests<3.0,>=2.0->watson-developer-cloud) (2018.4.16)\n",
      "Requirement already satisfied, skipping upgrade: six>=1.5 in /anaconda3/lib/python3.6/site-packages (from python_dateutil>=2.5.3->watson-developer-cloud) (1.11.0)\n",
      "Building wheels for collected packages: watson-developer-cloud\n",
      "  Running setup.py bdist_wheel for watson-developer-cloud ... \u001b[?25ldone\n",
      "\u001b[?25h  Stored in directory: /Users/swamchan/Library/Caches/pip/wheels/2c/1a/d9/0dfd4f0c4114803dc2028952471685e664fe612dde51bc1a7e\n",
      "Successfully built watson-developer-cloud\n",
      "Installing collected packages: watson-developer-cloud\n",
      "  Found existing installation: watson-developer-cloud 2.2.6\n",
      "    Uninstalling watson-developer-cloud-2.2.6:\n",
      "      Successfully uninstalled watson-developer-cloud-2.2.6\n",
      "Successfully installed watson-developer-cloud-2.3.0\n"
     ]
    }
   ],
   "source": [
    "# YOU CAN COMMENT THE FOLLOWING 2 COMMANDS IF YOU ALREADY HAVE THE PACKAGES INSTALLED\n",
    "\n",
    "# Only run this cell if you don't have pandas_ml or watson_developer_cloud installed\n",
    "!pip install pandas_ml\n",
    "\n",
    "# Install the Watson Developer Cloud Python SDK. This is a one time activity.\n",
    "!pip install --upgrade watson-developer-cloud"
   ]
  },
  {
   "cell_type": "code",
   "execution_count": 2,
   "metadata": {},
   "outputs": [],
   "source": [
    "#Import utilities\n",
    "import json\n",
    "import sys\n",
    "import codecs\n",
    "import unicodecsv as csv\n",
    "from sklearn.metrics import confusion_matrix\n",
    "from sklearn.metrics import precision_recall_fscore_support\n",
    "from sklearn.metrics import classification_report\n",
    "from sklearn.metrics import accuracy_score\n",
    "import matplotlib.pyplot as plt\n",
    "import pandas_ml\n",
    "from pandas_ml import ConfusionMatrix\n",
    "from watson_developer_cloud import AssistantV1"
   ]
  },
  {
   "cell_type": "markdown",
   "metadata": {},
   "source": [
    "### Provide required parameters \n",
    "Provide the credentials to access your Assistant service instance as well as the model test CSV file.\n",
    "Also provide the path & name where the output as well as the confusion matrix results CSV files have to be written."
   ]
  },
  {
   "cell_type": "code",
   "execution_count": 3,
   "metadata": {},
   "outputs": [],
   "source": [
    "# Params data. Privide your specific information\n",
    "url = \"https://gateway.watsonplatform.net/assistant/api\"\n",
    "\n",
    "#Watson Assistant Instance username\n",
    "user = \"\"\n",
    "\n",
    "#Watson Assistant Instance password\n",
    "password = \"\"\n",
    "\n",
    "# Watson Assistant WORKSPACE_ID\n",
    "workspace_id = \"a8d8c4b7-d784-4b6f-a1c4-a1886852f16a\"\n",
    "\n",
    "#NOTE: The test data CSV file should have 2 columns {text, class} with appropriate values. No header.\n",
    "# text column being the test utterance\n",
    "# class column being the expected intent class\n",
    "test_csv_file = \"/Users/swamchan/Documents/Packt-Watson/Part-I/Section3/data/model_test.csv\"\n",
    "results_csv_file = \"/Users/swamchan/Documents/Packt-Watson/Part-I/Section3/data/model_results.csv\"\n",
    "confmatrix_csv_file = \"/Users/swamchan/Documents/Packt-Watson/Part-I/Section3/data/model_cmtx.csv\""
   ]
  },
  {
   "cell_type": "markdown",
   "metadata": {},
   "source": [
    "### Create an object for your Watson Assistant instance"
   ]
  },
  {
   "cell_type": "code",
   "execution_count": 4,
   "metadata": {},
   "outputs": [],
   "source": [
    "# Make sure to update the version to match your Assistant workspace\n",
    "conversation = AssistantV1(\n",
    "  username=user,\n",
    "  password=password,\n",
    "  version='2018-09-20')"
   ]
  },
  {
   "cell_type": "markdown",
   "metadata": {},
   "source": [
    "### Define useful methods to classify using trained Watson Assistant service."
   ]
  },
  {
   "cell_type": "code",
   "execution_count": 5,
   "metadata": {},
   "outputs": [],
   "source": [
    "# Given a text string and a pointer to Assistant instance and workspaceID, get back Assistant response\n",
    "def getConversationResponse(conv_instance, workspaceID, string):\n",
    "    context={}\n",
    "    # remove newlines from input text as that causes Assistant to return an error\n",
    "    string = string.replace(\"\\n\",\"\")\n",
    "    response = conv_instance.message(\n",
    "        workspace_id=workspaceID, \n",
    "        input={'text':string},\n",
    "        context=context)\n",
    "    classes=response\n",
    "    return classes\n",
    "\n",
    "# Process multiple text utterances (provided via csv file) in batch. Effectively, read the CSV file and for each text\n",
    "# utterance, get Assistant response. Aggregate and return results.\n",
    "def batchConversation(conv_instance, workspaceID, csvfile):\n",
    "    test_classes=[]\n",
    "    convpredict_classes=[]\n",
    "    convpredict_confidence=[]\n",
    "    text=[]\n",
    "    i=0\n",
    "    print('Reading CSV file: ', csvfile)\n",
    "    with open(csvfile,\"rb\") as csvfile:\n",
    "        # For better handling of utf8 encoded text\n",
    "        csvReader = csv.reader(csvfile, encoding=\"utf-8-sig\")\n",
    "        for row in csvReader:\n",
    "            # Assume input text is 2 column csv file, first column is text\n",
    "            # and second column is the label/class/intent\n",
    "            # Sometimes, the text string includes commas which may split\n",
    "            # the text across multiple colmns. The following code handles that.\n",
    "            if len(row) > 2:\n",
    "                qelements = row[0:len(row)-1]\n",
    "                utterance = \",\".join(qelements)\n",
    "                test_classes.append(row[len(row)-1])\n",
    "            else:\n",
    "                utterance = row[0]\n",
    "                test_classes.append(row[1])\n",
    "            utterance = utterance.replace('\\r', ' ')\n",
    "            print ('i: ', i, ' testing row: ', utterance)\n",
    "          \n",
    "            conv_response = getConversationResponse(conv_instance,workspaceID,utterance)\n",
    "            #print(conv_response)\n",
    "            \n",
    "            if conv_response.result['intents']: \n",
    "                convpredict_classes.append(conv_response.result['intents'][0]['intent'])\n",
    "                convpredict_confidence.append(conv_response.result['intents'][0]['confidence'])\n",
    "            else:\n",
    "                convpredict_classes.append('')\n",
    "                convpredict_confidence.append(0)\n",
    "            text.append(utterance)\n",
    "            i = i+1\n",
    "            if(i%250 == 0):\n",
    "                print(\"\")\n",
    "                print('Processed ', i, ' records')\n",
    "            if(i%10 == 0):\n",
    "                sys.stdout.write('.'),\n",
    "        print(\"\")\n",
    "        print ('Finished processing ', i, ' records')\n",
    "    return test_classes, convpredict_classes, convpredict_confidence, text\n",
    "\n",
    "# Plot confusion matrix as an image\n",
    "def plot_conf_matrix(conf_matrix):\n",
    "    plt.figure()\n",
    "    plt.imshow(conf_matrix)\n",
    "    plt.show()\n",
    "\n",
    "# Print confusion matrix to a csv file\n",
    "def confmatrix2csv(conf_matrix, labels, csvfile):\n",
    "    with open(csvfile, 'wb') as csvfile:\n",
    "        csvWriter = csv.writer(csvfile)\n",
    "        row=list(labels)\n",
    "        row.insert(0,\"\")\n",
    "        csvWriter.writerow(row)\n",
    "        for i in range(conf_matrix.shape[0]):\n",
    "            row=list(conf_matrix[i])\n",
    "            row.insert(0,labels[i])\n",
    "            csvWriter.writerow(row)\n",
    "            "
   ]
  },
  {
   "cell_type": "markdown",
   "metadata": {},
   "source": [
    "### Call Assistant using the specified test CSV file and collect results."
   ]
  },
  {
   "cell_type": "code",
   "execution_count": 6,
   "metadata": {},
   "outputs": [
    {
     "name": "stdout",
     "output_type": "stream",
     "text": [
      "Reading CSV file:  /Users/swamchan/Documents/Packt-Watson/Part-I/Section3/data/model_test.csv\n",
      "i:  0  testing row:  How do I change my Stack Exchange password?\n",
      "i:  1  testing row:  Can't seem to find the option to reset my password\n",
      "i:  2  testing row:  How do you reset a Windows 10 password?\n",
      "i:  3  testing row:  Need help fixing paper jam\n",
      "i:  4  testing row:  Printing issue in bluetooth printer\n",
      "i:  5  testing row:  Install fails on FreeBSD 12.0\n",
      "i:  6  testing row:  AWS S3 charging for 4 TB of storage when only using less than 1 GB\n",
      "i:  7  testing row:  Bye bye my friend\n",
      "i:  8  testing row:  Hi. Nice to meet you\n",
      "\n",
      "Finished processing  9  records\n"
     ]
    }
   ],
   "source": [
    "test_classes,convpredict_classes,convpredict_conf,text=batchConversation(conversation, workspace_id, test_csv_file)"
   ]
  },
  {
   "cell_type": "markdown",
   "metadata": {},
   "source": [
    "### Write results to a CSV file"
   ]
  },
  {
   "cell_type": "code",
   "execution_count": 7,
   "metadata": {},
   "outputs": [],
   "source": [
    "# print results to csv file including original text, the correct label, \n",
    "# the predicted label and the confidence reported by Assistant.\n",
    "csvfileOut=results_csv_file\n",
    "csvWriter = codecs.open(csvfileOut, 'w', encoding=\"utf-8-sig\")\n",
    "\n",
    "outrow=['text','true class','Assistant Predicted class','Confidence']\n",
    "csvWriter.write(\"text\" + \",\" + \"true class\" + \",\" + \"Assistant Predicted class\" + \",\" + \"Confidence\")\n",
    "csvWriter.write(\"\\n\")\n",
    "\n",
    "for i in range(len(text)):\n",
    "    t = text[i]\n",
    "    txt = text[i]\n",
    "    if txt[:1] != '\"' or txt.strip()[-1] != '\"':\n",
    "        txt = \"\\\"\" + txt + \"\\\"\"\n",
    "    csvWriter.write(txt + \",\" + test_classes[i] + \",\" + convpredict_classes[i] + \",\" + str(convpredict_conf[i]))\n",
    "    csvWriter.write(\"\\n\")\n",
    "csvWriter.close()"
   ]
  },
  {
   "cell_type": "markdown",
   "metadata": {},
   "source": [
    "### Compute confusion matrix"
   ]
  },
  {
   "cell_type": "code",
   "execution_count": 8,
   "metadata": {},
   "outputs": [],
   "source": [
    "# Compute confusion matrix\n",
    "labels=list(set(test_classes))\n",
    "conv_confusion_matrix = confusion_matrix(test_classes, convpredict_classes, labels)\n",
    "convConfMatrix = ConfusionMatrix(test_classes, convpredict_classes)"
   ]
  },
  {
   "cell_type": "markdown",
   "metadata": {},
   "source": [
    "### Write confusion matrix to a CSV file"
   ]
  },
  {
   "cell_type": "code",
   "execution_count": 9,
   "metadata": {},
   "outputs": [],
   "source": [
    "# Print out confusion matrix with labels to csv file\n",
    "confmatrix2csv(conv_confusion_matrix,labels,confmatrix_csv_file)"
   ]
  },
  {
   "cell_type": "code",
   "execution_count": 10,
   "metadata": {},
   "outputs": [
    {
     "data": {
      "text/plain": [
       "<matplotlib.axes._subplots.AxesSubplot at 0x1a0f2dd470>"
      ]
     },
     "execution_count": 10,
     "metadata": {},
     "output_type": "execute_result"
    },
    {
     "data": {
      "image/png": "[encoded data removed]",
      "text/plain": [
       "<Figure size 648x576 with 1 Axes>"
      ]
     },
     "metadata": {},
     "output_type": "display_data"
    }
   ],
   "source": [
    "%matplotlib inline\n",
    "convConfMatrix.plot()"
   ]
  },
  {
   "cell_type": "markdown",
   "metadata": {},
   "source": [
    "### Plat confusion matrix"
   ]
  },
  {
   "cell_type": "code",
   "execution_count": 11,
   "metadata": {},
   "outputs": [
    {
     "name": "stdout",
     "output_type": "stream",
     "text": [
      "Classification Accuracy:  1.0\n"
     ]
    }
   ],
   "source": [
    "# Compute accuracy of classification\n",
    "acc=accuracy_score(test_classes, convpredict_classes)\n",
    "print ('Classification Accuracy: ', acc)"
   ]
  },
  {
   "cell_type": "markdown",
   "metadata": {},
   "source": [
    "### Print precision, recall and F1-scores for the different classes"
   ]
  },
  {
   "cell_type": "code",
   "execution_count": 12,
   "metadata": {},
   "outputs": [
    {
     "name": "stdout",
     "output_type": "stream",
     "text": [
      "                        precision    recall  f1-score   support\n",
      "\n",
      "        Reset_Password       1.00      1.00      1.00         3\n",
      "Submit_Service_Request       1.00      1.00      1.00         4\n",
      "        Handle_Goodbye       1.00      1.00      1.00         1\n",
      "       Handle_Greeting       1.00      1.00      1.00         1\n",
      "\n",
      "           avg / total       1.00      1.00      1.00         9\n",
      "\n"
     ]
    }
   ],
   "source": [
    "print(classification_report(test_classes, convpredict_classes, labels=labels))"
   ]
  }
 ],
 "metadata": {
  "kernelspec": {
   "display_name": "Python 3",
   "language": "python",
   "name": "python3"
  },
  "language_info": {
   "codemirror_mode": {
    "name": "ipython",
    "version": 3
   },
   "file_extension": ".py",
   "mimetype": "text/x-python",
   "name": "python",
   "nbconvert_exporter": "python",
   "pygments_lexer": "ipython3",
   "version": "3.6.5"
  }
 },
 "nbformat": 4,
 "nbformat_minor": 1
}
